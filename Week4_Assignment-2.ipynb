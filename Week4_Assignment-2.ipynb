{
  "metadata": {
    "language_info": {
      "codemirror_mode": {
        "name": "python",
        "version": 3
      },
      "file_extension": ".py",
      "mimetype": "text/x-python",
      "name": "python",
      "nbconvert_exporter": "python",
      "pygments_lexer": "ipython3",
      "version": "3.8"
    },
    "kernelspec": {
      "name": "python",
      "display_name": "Pyolite",
      "language": "python"
    }
  },
  "nbformat_minor": 4,
  "nbformat": 4,
  "cells": [
    {
      "cell_type": "markdown",
      "source": "# My Jupyter Notebook on IBM Watson Studio",
      "metadata": {}
    },
    {
      "cell_type": "markdown",
      "source": "__Jane S__<br>\nMSc. Civil Eng. Candidate",
      "metadata": {}
    },
    {
      "cell_type": "markdown",
      "source": "_I am interested in data science because of its wide application to various industries. Additionally, I am interested in the use of existing data that aren't currently being utilized to its full potential._",
      "metadata": {}
    },
    {
      "cell_type": "markdown",
      "source": "### The following code will output addition result",
      "metadata": {}
    },
    {
      "cell_type": "code",
      "source": "5+1",
      "metadata": {
        "trusted": true
      },
      "execution_count": 2,
      "outputs": [
        {
          "execution_count": 2,
          "output_type": "execute_result",
          "data": {
            "text/plain": "6"
          },
          "metadata": {}
        }
      ]
    },
    {
      "cell_type": "markdown",
      "source": "\n> This is a blocked quote <br>\n<br>\n<ol>\n    <li> This\n        <li> is\n            <li> a list</ol><br>\n<br>\n<table>\n  <tr>\n    <th>This</th>\n    <th>is </th> \n    <th>a table</th>\n  </tr>\n  <tr>\n    <td>This </td>\n    <td>is</td> \n    <td>this first row</td>\n  </tr></table>\n\n\n          \n\n                ",
      "metadata": {
        "tags": []
      }
    },
    {
      "cell_type": "code",
      "source": "",
      "metadata": {},
      "execution_count": null,
      "outputs": []
    }
  ]
}